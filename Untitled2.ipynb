{
  "nbformat": 4,
  "nbformat_minor": 0,
  "metadata": {
    "colab": {
      "provenance": [],
      "authorship_tag": "ABX9TyOU8uf7EdY7cCWsYR6GcoJ3",
      "include_colab_link": true
    },
    "kernelspec": {
      "name": "python3",
      "display_name": "Python 3"
    },
    "language_info": {
      "name": "python"
    }
  },
  "cells": [
    {
      "cell_type": "markdown",
      "metadata": {
        "id": "view-in-github",
        "colab_type": "text"
      },
      "source": [
        "<a href=\"https://colab.research.google.com/github/Abhinavyadav12827/Abhinavyadav12827/blob/main/Untitled2.ipynb\" target=\"_parent\"><img src=\"https://colab.research.google.com/assets/colab-badge.svg\" alt=\"Open In Colab\"/></a>"
      ]
    },
    {
      "cell_type": "code",
      "execution_count": 5,
      "metadata": {
        "colab": {
          "base_uri": "https://localhost:8080/"
        },
        "id": "KbYMBc-gihKI",
        "outputId": "7c3808fd-70bc-4053-a32b-428155674ec0"
      },
      "outputs": [
        {
          "output_type": "stream",
          "name": "stdout",
          "text": [
            " * Serving Flask app '__main__'\n",
            " * Debug mode: on\n"
          ]
        },
        {
          "output_type": "stream",
          "name": "stderr",
          "text": [
            "INFO:werkzeug:\u001b[31m\u001b[1mWARNING: This is a development server. Do not use it in a production deployment. Use a production WSGI server instead.\u001b[0m\n",
            " * Running on http://127.0.0.1:5000\n",
            "INFO:werkzeug:\u001b[33mPress CTRL+C to quit\u001b[0m\n",
            "INFO:werkzeug: * Restarting with stat\n"
          ]
        }
      ],
      "source": [
        "from flask import Flask, render_template, request\n",
        "from difflib import SequenceMatcher\n",
        "from PyPDF2 import PdfReader\n",
        "import docx2txt\n",
        "\n",
        "app = Flask(__name__)\n",
        "\n",
        "def highlight_similar_words(text1, text2):\n",
        "    matcher = SequenceMatcher(None, text1, text2)\n",
        "    opcodes = matcher.get_opcodes()\n",
        "\n",
        "    highlighted_text1 = \"\"\n",
        "    highlighted_text2 = \"\"\n",
        "\n",
        "    for tag, i1, i2, j1, j2 in opcodes:\n",
        "        if tag == 'equal':\n",
        "            highlighted_text1 += '<span class=\"highlight\">' + text1[i1:i2] + '</span>'\n",
        "            highlighted_text2 += '<span class=\"highlight\">' + text2[j1:j2] + '</span>'\n",
        "        else:\n",
        "            highlighted_text1 += text1[i1:i2]\n",
        "            highlighted_text2 += text2[j1:j2]\n",
        "    result2=matcher.ratio()*100\n",
        "    return highlighted_text1, highlighted_text2,result2\n",
        "\n",
        "@app.route('/')\n",
        "def index():\n",
        "    return render_template('index.html')\n",
        "\n",
        "@app.route('/compare', methods=['POST'])\n",
        "def compare():\n",
        "    # text1 = request.form['text1']\n",
        "    # text2 = request.form['text2']\n",
        "    file1 = request.files['file1']\n",
        "    file2 = request.files['file2']\n",
        "\n",
        "    text1 = \"\"\n",
        "    text2 = \"\"\n",
        "\n",
        "    if file1.filename.endswith('.pdf'):\n",
        "        pdf1 = PdfReader(file1)\n",
        "        for page in pdf1.pages:\n",
        "            text1 += page.extract_text()\n",
        "    elif file1.filename.endswith('.txt'):\n",
        "        text1 = file1.read().decode('utf-8')\n",
        "    elif file1.filename.endswith('.docx'):\n",
        "        text1 = docx2txt.process(file1)\n",
        "\n",
        "    if file2.filename.endswith('.pdf'):\n",
        "        pdf2 = PdfReader(file2)\n",
        "        for page in pdf2.pages:\n",
        "            text2 += page.extract_text()\n",
        "    elif file2.filename.endswith('.txt'):\n",
        "        text2 = file2.read().decode('utf-8')\n",
        "    elif file2.filename.endswith('.docx'):\n",
        "        text2 = docx2txt.process(file2)\n",
        "\n",
        "    highlighted_text1, highlighted_text2, plagerism = highlight_similar_words(text1, text2)\n",
        "\n",
        "    return render_template('compare.html', text1=highlighted_text1, text2=highlighted_text2,plagerism=plagerism)\n",
        "\n",
        "if __name__ == '__main__':\n",
        "     app.run(debug=True)"
      ]
    },
    {
      "cell_type": "code",
      "source": [
        "pip install docx2txt"
      ],
      "metadata": {
        "colab": {
          "base_uri": "https://localhost:8080/"
        },
        "id": "zMxGGyofklGy",
        "outputId": "aa028771-3f22-4d3a-8e79-e31eb66630dc"
      },
      "execution_count": 4,
      "outputs": [
        {
          "output_type": "stream",
          "name": "stdout",
          "text": [
            "Looking in indexes: https://pypi.org/simple, https://us-python.pkg.dev/colab-wheels/public/simple/\n",
            "Collecting docx2txt\n",
            "  Downloading docx2txt-0.8.tar.gz (2.8 kB)\n",
            "  Preparing metadata (setup.py) ... \u001b[?25l\u001b[?25hdone\n",
            "Building wheels for collected packages: docx2txt\n",
            "  Building wheel for docx2txt (setup.py) ... \u001b[?25l\u001b[?25hdone\n",
            "  Created wheel for docx2txt: filename=docx2txt-0.8-py3-none-any.whl size=3957 sha256=eb730600bc245368d67944cb336e180f478169356b64a486aa3e8a6cd9ee2bc7\n",
            "  Stored in directory: /root/.cache/pip/wheels/22/58/cf/093d0a6c3ecfdfc5f6ddd5524043b88e59a9a199cb02352966\n",
            "Successfully built docx2txt\n",
            "Installing collected packages: docx2txt\n",
            "Successfully installed docx2txt-0.8\n"
          ]
        }
      ]
    },
    {
      "cell_type": "code",
      "source": [],
      "metadata": {
        "id": "g6BNyGt9kpYO"
      },
      "execution_count": null,
      "outputs": []
    }
  ]
}